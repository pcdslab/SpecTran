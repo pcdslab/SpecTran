{
 "cells": [
  {
   "cell_type": "code",
   "execution_count": 36,
   "metadata": {},
   "outputs": [],
   "source": [
    "input_path = \"/disk/dragon-storage/homes/seber007/data/rat/peptides/crux-output/crux-7-30-rat-peptides.txt\"\n",
    "\n",
    "all_peptides = []\n",
    "\n",
    "with open(input_path) as crux_file:\n",
    "    for line in crux_file:\n",
    "        split_line = line.split(\"\\t\")\n",
    "\n",
    "        peptide_sequence = split_line[0]\n",
    "\n",
    "        all_peptides.append(peptide_sequence)     \n",
    "\n",
    "\n",
    "# now shuffle the peptides and divide into 90% train/validation, and 10% test, and save to files\n",
    "\n",
    "output_training_path = \"/disk/dragon-storage/homes/seber007/data/rat/peptides/train_peptides_apr4.txt\"\n",
    "output_test_path = \"/disk/dragon-storage/homes/seber007/data/rat/peptides/test_peptides_apr4.txt\"\n",
    "\n",
    "\n",
    "import random\n",
    "from sklearn.model_selection import train_test_split\n",
    "seed = 32\n",
    "\n",
    "random.Random(32).shuffle(all_peptides)\n",
    "\n",
    "\n",
    "\n",
    "train_set, test_set = train_test_split(all_peptides, train_size=0.9, random_state=32)\n",
    "\n",
    "\n",
    "with open(output_training_path, \"w+\") as train_file:\n",
    "    for peptide in train_set:\n",
    "        train_file.write(f\"{peptide}\\n\")\n",
    "\n",
    "\n",
    "with open(output_test_path, \"w+\") as test_file:\n",
    "    for peptide in test_set:\n",
    "        test_file.write(f\"{peptide}\\n\")\n"
   ]
  },
  {
   "cell_type": "code",
   "execution_count": null,
   "metadata": {},
   "outputs": [],
   "source": [
    "# now load the file (for now only the train file) and put it in prosit-ready format\n",
    "# for these initial tests (apr4) we will use only the precursor charges of +1, +2, +3, and a collision energy of 30"
   ]
  },
  {
   "cell_type": "code",
   "execution_count": 3,
   "metadata": {},
   "outputs": [],
   "source": [
    "\n",
    "output_training_path = \"/disk/dragon-storage/homes/seber007/data/rat/peptides/train_peptides_apr4.txt\"\n",
    "output_test_path = \"/disk/dragon-storage/homes/seber007/data/rat/peptides/test_peptides_apr4.txt\""
   ]
  },
  {
   "cell_type": "code",
   "execution_count": 19,
   "metadata": {},
   "outputs": [],
   "source": [
    "# create the prosit-formatted list of peptides and save to csv\n",
    "prosit_lines = []\n",
    "\n",
    "collision_energy = 30\n",
    "precursor_charges = [1, 2, 3]\n",
    "\n",
    "with open(output_training_path) as train_file:\n",
    "    for peptide in train_file:\n",
    "        peptide = peptide.strip(\"\\n\")\n",
    "\n",
    "        for charge in precursor_charges:\n",
    "            prosit_lines.append(f\"{peptide},{collision_energy},{charge}\")\n",
    "\n",
    "\n",
    "import math\n",
    "\n",
    "peptides_per_file = 100_000 # prosit can fail to download for large files so we split into batches of 100k\n",
    "total_batches = math.ceil(len(prosit_lines) / peptides_per_file)\n",
    "current_batch = 0\n",
    "\n",
    "while current_batch < total_batches:\n",
    "    out_file_name = f\"/disk/dragon-storage/homes/seber007/data/rat/peptides/prosit_input_train_apr4_batch{current_batch}.txt\"\n",
    "\n",
    "    starting_index = current_batch * peptides_per_file\n",
    "\n",
    "    with open(out_file_name, \"w+\") as prosit_outfile:\n",
    "        for i in range(starting_index, min(starting_index + peptides_per_file, len(prosit_lines))):\n",
    "            if i == starting_index:\n",
    "                prosit_outfile.write(\"modified_sequence,collision_energy,precursor_charge\\n\")\n",
    "\n",
    "            prosit_outfile.write(f\"{prosit_lines[i]}\\n\")\n",
    "\n",
    "    current_batch += 1\n"
   ]
  }
 ],
 "metadata": {
  "kernelspec": {
   "display_name": "base",
   "language": "python",
   "name": "python3"
  },
  "language_info": {
   "codemirror_mode": {
    "name": "ipython",
    "version": 3
   },
   "file_extension": ".py",
   "mimetype": "text/x-python",
   "name": "python",
   "nbconvert_exporter": "python",
   "pygments_lexer": "ipython3",
   "version": "3.9.13 (main, Aug 25 2022, 23:26:10) \n[GCC 11.2.0]"
  },
  "orig_nbformat": 4,
  "vscode": {
   "interpreter": {
    "hash": "ac97678c709df623c479ad32f8f18177f27e419f71d040cdac87793227800db1"
   }
  }
 },
 "nbformat": 4,
 "nbformat_minor": 2
}
